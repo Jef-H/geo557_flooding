{
 "cells": [
  {
   "cell_type": "code",
   "execution_count": 14,
   "id": "067ff7e5-c4d7-40b7-b24a-2be98bf85224",
   "metadata": {},
   "outputs": [],
   "source": [
    "# TROPICAL TRENDSETTERS\n",
    "### Robin Mikeal and Jef Hinton\n",
    "\n",
    "  "
   ]
  },
  {
   "cell_type": "code",
   "execution_count": 10,
   "id": "9627a34e-20ef-4ccb-b224-01ac7300c8fc",
   "metadata": {},
   "outputs": [
    {
     "ename": "SyntaxError",
     "evalue": "invalid decimal literal (3251475234.py, line 2)",
     "output_type": "error",
     "traceback": [
      "\u001b[0;36m  Cell \u001b[0;32mIn[10], line 2\u001b[0;36m\u001b[0m\n\u001b[0;31m    Describes data distributions using at least three common parameters (e.g. median, mean) and plots KDEs for at least two 1D distributions; provides comments or markdown text explaining these distributions using domain knowledge\u001b[0m\n\u001b[0m                                                                                                                            ^\u001b[0m\n\u001b[0;31mSyntaxError\u001b[0m\u001b[0;31m:\u001b[0m invalid decimal literal\n"
     ]
    }
   ],
   "source": [
    "\n",
    "# Here's the game plan! we can remove this cell before turning in the assignment.\n",
    "Describes data distributions using at least three common parameters (e.g. median, mean) and plots KDEs for at least two 1D distributions; provides comments or markdown text explaining these distributions using domain knowledge\n",
    "Median number of hurricanes per year el nino, la nina, neutral - Jef\n",
    "common param 2 TBD? - Jef\n",
    "common param 3 TBD? Robin\n",
    "KDE 1 Wind?  - Robin\n",
    "KDE 2 Pressure?  - Jef\n",
    "Linear Regression of pressure vs distance in miles  - Robin\n",
    "\n",
    "2. Applies at least one parametric and at least one non-parametric method to compare two 1D distributions; explains the significance of the test and what domain implications it has\n",
    "T test  (parametric)  - Robin\n",
    "KS test (non-parametric) 1st 10 years of storms vs 2nd 10 years of storms, or el nino vs la nina - Jef \n"
   ]
  },
  {
   "cell_type": "code",
   "execution_count": null,
   "id": "128658b3-0284-463a-9e4f-31a0dcd129b7",
   "metadata": {},
   "outputs": [],
   "source": [
    "# Overview: \n",
    "\n",
    "# We're goint to do some stats, we hope to find some interesting facts \n",
    "# <Insert more preamble here> "
   ]
  },
  {
   "cell_type": "code",
   "execution_count": null,
   "id": "5fbdf3ce-ead6-48e1-b3b0-1e6710d5007b",
   "metadata": {},
   "outputs": [],
   "source": [
    "# Section 1: \n",
    "\n",
    "\n",
    "\n",
    "\n"
   ]
  },
  {
   "cell_type": "code",
   "execution_count": null,
   "id": "badd8b70-8a81-4825-b66e-1822a1d4090c",
   "metadata": {},
   "outputs": [],
   "source": [
    "# SECTION 2: \n",
    "\n",
    "# PARAMETRIC and NOn-parametric stats: "
   ]
  },
  {
   "cell_type": "code",
   "execution_count": 1,
   "id": "11e4b050-6334-4e75-99bc-9eaa206bad13",
   "metadata": {},
   "outputs": [
    {
     "name": "stdout",
     "output_type": "stream",
     "text": [
      "KS Statistic: 0.2714285714285714\n",
      "P-Value: 0.6796359067862635\n",
      "The distributions of maximum hurricane winds are not significantly different (p ≥ 0.05).\n"
     ]
    }
   ],
   "source": [
    "from scipy.stats import ks_2samp\n",
    "import pandas as pd\n",
    "\n",
    "\n",
    "data = pd.read_csv(\"GEO557Tropical_Storm_Dataset_CLEAN.csv\")\n",
    "# Group by 'Name' and 'Year' to get the maximum 'USA WIND' for each hurricane\n",
    "max_wind_per_hurricane = data.groupby(['Name', 'Year'])['USA WIND'].max().reset_index()\n",
    "\n",
    "# Split into two time periods\n",
    "first_half = max_wind_per_hurricane[(max_wind_per_hurricane['Year'] >= 2000) & \n",
    "                                    (max_wind_per_hurricane['Year'] <= 2011)]['USA WIND'].dropna()\n",
    "second_half = max_wind_per_hurricane[(max_wind_per_hurricane['Year'] >= 2012) & \n",
    "                                     (max_wind_per_hurricane['Year'] <= 2023)]['USA WIND'].dropna()\n",
    "\n",
    "# Perform the KS test\n",
    "ks_statistic, p_value = ks_2samp(first_half, second_half)\n",
    "\n",
    "# Output results\n",
    "print(f\"KS Statistic: {ks_statistic}\")\n",
    "print(f\"P-Value: {p_value}\")\n",
    "\n",
    "# Interpret results\n",
    "if p_value < 0.05:\n",
    "    print(\"The distributions of maximum hurricane winds are significantly different (p < 0.05).\")\n",
    "else:\n",
    "    print(\"The distributions of maximum hurricane winds are not significantly different between 2000-2011 and 2012-2023 (p ≥ 0.05).\")"
   ]
  },
  {
   "cell_type": "code",
   "execution_count": 15,
   "id": "a61d8bb4-bc0b-4fab-b3f8-3b9a4587a3cd",
   "metadata": {},
   "outputs": [
    {
     "name": "stdout",
     "output_type": "stream",
     "text": [
      "KS Statistic: 0.32857142857142857\n",
      "P-Value: 0.46748410202441715\n",
      "The distributions of minimum hurricane pressures are not significantly different between 2000-2011 and 2012-2023 (p ≥ 0.05).\n"
     ]
    }
   ],
   "source": [
    "from scipy.stats import ks_2samp\n",
    "import pandas as pd\n",
    "\n",
    "# Load data\n",
    "data = pd.read_csv(\"GEO557Tropical_Storm_Dataset_CLEAN.csv\")\n",
    "\n",
    "# Group by 'Name' and 'Year' to get the minimum 'USA PRES' for each hurricane\n",
    "min_pres_per_hurricane = data.groupby(['Name', 'Year'])['USA PRES'].min().reset_index()\n",
    "\n",
    "# Split into two time periods\n",
    "first_half = min_pres_per_hurricane[(min_pres_per_hurricane['Year'] >= 2000) & \n",
    "                                    (min_pres_per_hurricane['Year'] <= 2011)]['USA PRES'].dropna()\n",
    "second_half = min_pres_per_hurricane[(min_pres_per_hurricane['Year'] >= 2012) & \n",
    "                                     (min_pres_per_hurricane['Year'] <= 2023)]['USA PRES'].dropna()\n",
    "\n",
    "# Perform the KS test\n",
    "ks_statistic, p_value = ks_2samp(first_half, second_half)\n",
    "\n",
    "\n",
    "# Output results\n",
    "print(f\"KS Statistic: {ks_statistic}\")\n",
    "print(f\"P-Value: {p_value}\")\n",
    "\n",
    "# Interpret results\n",
    "if p_value < 0.05:\n",
    "    print(\"The distributions of minimum hurricane pressures are significantly different (p < 0.05).\")\n",
    "else:\n",
    "    print(\"The distributions of minimum hurricane pressures are not significantly different between 2000-2011 and 2012-2023 (p ≥ 0.05).\")"
   ]
  },
  {
   "cell_type": "code",
   "execution_count": 29,
   "id": "1b0b63ee-c342-4518-b7e9-bfd480cb0c2c",
   "metadata": {},
   "outputs": [
    {
     "name": "stdout",
     "output_type": "stream",
     "text": [
      "<class 'pandas.core.frame.DataFrame'>\n",
      "RangeIndex: 127 entries, 0 to 126\n",
      "Data columns (total 2 columns):\n",
      " #   Column  Non-Null Count  Dtype \n",
      "---  ------  --------------  ----- \n",
      " 0   Year    127 non-null    int64 \n",
      " 1   ENSO    127 non-null    object\n",
      "dtypes: int64(1), object(1)\n",
      "memory usage: 2.1+ KB\n",
      "None\n",
      "      Year    Name  BASIN             ISO_TIME NATURE   LAT   LON  WMO WIND  \\\n",
      "0     2022  NICOLE    NaN  2022-11-06 12:00:00     DS  20.6 -66.8      30.0   \n",
      "1     2022  NICOLE    NaN  2022-11-06 15:00:00     DS  21.5 -66.7       NaN   \n",
      "2     2022  NICOLE    NaN  2022-11-06 18:00:00     DS  22.4 -66.8      35.0   \n",
      "3     2022  NICOLE    NaN  2022-11-06 21:00:00     DS  23.2 -67.1       NaN   \n",
      "4     2022  NICOLE    NaN  2022-11-07 00:00:00     DS  23.9 -67.5      35.0   \n",
      "...    ...     ...    ...                  ...    ...   ...   ...       ...   \n",
      "2131  2004    IVAN    NaN  2004-09-23 21:00:00     TS  29.4 -92.9       NaN   \n",
      "2132  2004    IVAN    NaN  2004-09-24 00:00:00     TS  29.6 -93.2      30.0   \n",
      "2133  2004    IVAN    NaN  2004-09-24 02:00:00     TS  29.8 -93.6      30.0   \n",
      "2134  2004    IVAN    NaN  2004-09-24 03:00:00     TS  29.9 -93.8       NaN   \n",
      "2135  2004    IVAN    NaN  2004-09-24 06:00:00     TS  30.1 -94.2      25.0   \n",
      "\n",
      "      WMO PRES  USA WIND  USA PRES     ENSO  \n",
      "0       1005.0        30      1005  La Niña  \n",
      "1          NaN        33      1005  La Niña  \n",
      "2       1005.0        35      1005  La Niña  \n",
      "3          NaN        35      1005  La Niña  \n",
      "4       1005.0        35      1005  La Niña  \n",
      "...        ...       ...       ...      ...  \n",
      "2131       NaN        35      1003  Neutral  \n",
      "2132    1003.0        30      1003  Neutral  \n",
      "2133    1004.0        30      1004  Neutral  \n",
      "2134       NaN        29      1005  Neutral  \n",
      "2135    1009.0        25      1009  Neutral  \n",
      "\n",
      "[2136 rows x 12 columns]\n"
     ]
    }
   ],
   "source": [
    "#Build another csv with la nina and el nino for future use. \n",
    "dfENSO = pd.read_csv(\"ENSO_Years.csv\") \n",
    "# import, get info and head to prove data exists. \n",
    "print(dfENSO.info())\n",
    "dfENSO.head(10)\n",
    "\n",
    "df2 = pd.read_csv(\"GEO557Tropical_Storm_Dataset_CLEAN.csv\")\n",
    "#merge ENSO Year Table with the Hurricane Path dataframe\n",
    "df2 = pd.merge(df2, dfENSO, on='Year')\n",
    "print(df2)\n",
    "# Save the merged DataFrame to a new CSV file\n",
    "df2.to_csv(\"Tropical_Storm_Dataset_AND_ENSO.csv\", index=False)"
   ]
  },
  {
   "cell_type": "code",
   "execution_count": 30,
   "id": "9f5506b5-4543-48af-aebf-2251f3a85306",
   "metadata": {},
   "outputs": [
    {
     "name": "stdout",
     "output_type": "stream",
     "text": [
      "El Niño vs La Niña:\n",
      "KS Statistic: 0.5\n",
      "P-Value: 0.9333333333333332\n",
      "Distributions of max USA WIND are not significantly different between El Niño and La Niña (p ≥ 0.05).\n",
      "\n",
      "El Niño vs Neutral:\n",
      "KS Statistic: 0.4411764705882353\n",
      "P-Value: 0.7894736842105261\n",
      "Distributions of max USA WIND are not significantly different between El Niño and Neutral (p ≥ 0.05).\n",
      "\n",
      "La Niña vs Neutral:\n",
      "KS Statistic: 0.6323529411764706\n",
      "P-Value: 0.1069340016708438\n",
      "Distributions of max USA WIND are not significantly different between La Niña and Neutral (p ≥ 0.05).\n"
     ]
    }
   ],
   "source": [
    "from scipy.stats import ks_2samp\n",
    "import pandas as pd\n",
    "\n",
    "# Load merged dataset\n",
    "data = pd.read_csv(\"Tropical_Storm_Dataset_AND_ENSO.csv\")\n",
    "\n",
    "# Group by 'Name' and 'Year' to get the maximum 'USA WIND' for each hurricane\n",
    "max_wind_per_hurricane = data.groupby(['Name', 'Year'])['USA WIND'].max().reset_index()\n",
    "\n",
    "# Merge the ENSO phase information back in based on the year\n",
    "max_wind_per_hurricane = pd.merge(max_wind_per_hurricane, data[['Year', 'ENSO']].drop_duplicates(), on='Year', how='left')\n",
    "\n",
    "# Filter by ENSO phases\n",
    "el_nino = max_wind_per_hurricane[max_wind_per_hurricane['ENSO'] == 'El Niño']['USA WIND'].dropna()\n",
    "la_nina = max_wind_per_hurricane[max_wind_per_hurricane['ENSO'] == 'La Niña']['USA WIND'].dropna()\n",
    "neutral = max_wind_per_hurricane[max_wind_per_hurricane['ENSO'] == 'Neutral']['USA WIND'].dropna()\n",
    "\n",
    "# Perform KS test between El Niño and La Niña\n",
    "ks_statistic_elnino_lanina, p_value_elnino_lanina = ks_2samp(el_nino, la_nina)\n",
    "print(\"El Niño vs La Niña:\")\n",
    "print(f\"KS Statistic: {ks_statistic_elnino_lanina}\")\n",
    "print(f\"P-Value: {p_value_elnino_lanina}\")\n",
    "if p_value_elnino_lanina < 0.05:\n",
    "    print(\"Distributions of max USA WIND are significantly different between El Niño and La Niña (p < 0.05).\")\n",
    "else:\n",
    "    print(\"Distributions of max USA WIND are not significantly different between El Niño and La Niña (p ≥ 0.05).\")\n",
    "\n",
    "# Perform KS test between El Niño and Neutral\n",
    "ks_statistic_elnino_neutral, p_value_elnino_neutral = ks_2samp(el_nino, neutral)\n",
    "print(\"\\nEl Niño vs Neutral:\")\n",
    "print(f\"KS Statistic: {ks_statistic_elnino_neutral}\")\n",
    "print(f\"P-Value: {p_value_elnino_neutral}\")\n",
    "if p_value_elnino_neutral < 0.05:\n",
    "    print(\"Distributions of max USA WIND are significantly different between El Niño and Neutral (p < 0.05).\")\n",
    "else:\n",
    "    print(\"Distributions of max USA WIND are not significantly different between El Niño and Neutral (p ≥ 0.05).\")\n",
    "\n",
    "# Perform KS test between La Niña and Neutral\n",
    "ks_statistic_lanina_neutral, p_value_lanina_neutral = ks_2samp(la_nina, neutral)\n",
    "print(\"\\nLa Niña vs Neutral:\")\n",
    "print(f\"KS Statistic: {ks_statistic_lanina_neutral}\")\n",
    "print(f\"P-Value: {p_value_lanina_neutral}\")\n",
    "if p_value_lanina_neutral < 0.05:\n",
    "    print(\"Distributions of max USA WIND are significantly different between La Niña and Neutral (p < 0.05).\")\n",
    "else:\n",
    "    print(\"Distributions of max USA WIND are not significantly different between La Niña and Neutral (p ≥ 0.05).\")\n"
   ]
  },
  {
   "cell_type": "code",
   "execution_count": 31,
   "id": "b13f326b-dd15-4198-b634-8a645b5cb092",
   "metadata": {},
   "outputs": [
    {
     "name": "stdout",
     "output_type": "stream",
     "text": [
      "El Niño vs La Niña (Number of Storms per Year):\n",
      "KS Statistic: 0.6666666666666666\n",
      "P-Value: 1.0\n",
      "Distributions of storm counts per year are not significantly different between El Niño and La Niña (p ≥ 0.05).\n",
      "\n",
      "El Niño vs Neutral (Number of Storms per Year):\n",
      "KS Statistic: 0.42857142857142855\n",
      "P-Value: 1.0\n",
      "Distributions of storm counts per year are not significantly different between El Niño and Neutral (p ≥ 0.05).\n",
      "\n",
      "La Niña vs Neutral (Number of Storms per Year):\n",
      "KS Statistic: 0.42857142857142855\n",
      "P-Value: 0.7000000000000001\n",
      "Distributions of storm counts per year are not significantly different between La Niña and Neutral (p ≥ 0.05).\n"
     ]
    }
   ],
   "source": [
    "\n",
    "\n",
    "from scipy.stats import ks_2samp\n",
    "import pandas as pd\n",
    "\n",
    "# Load merged dataset\n",
    "data = pd.read_csv(\"Tropical_Storm_Dataset_AND_ENSO.csv\")\n",
    "\n",
    "# Count the number of storms per year\n",
    "storm_counts_per_year = data.groupby(['Year', 'ENSO'])['Name'].nunique().reset_index(name='Storm_Count')\n",
    "\n",
    "# Filter storm counts by ENSO phase\n",
    "el_nino_counts = storm_counts_per_year[storm_counts_per_year['ENSO'] == 'El Niño']['Storm_Count']\n",
    "la_nina_counts = storm_counts_per_year[storm_counts_per_year['ENSO'] == 'La Niña']['Storm_Count']\n",
    "neutral_counts = storm_counts_per_year[storm_counts_per_year['ENSO'] == 'Neutral']['Storm_Count']\n",
    "\n",
    "# Perform KS test between El Niño and La Niña storm counts\n",
    "ks_statistic_elnino_lanina, p_value_elnino_lanina = ks_2samp(el_nino_counts, la_nina_counts)\n",
    "print(\"El Niño vs La Niña (Number of Storms per Year):\")\n",
    "print(f\"KS Statistic: {ks_statistic_elnino_lanina}\")\n",
    "print(f\"P-Value: {p_value_elnino_lanina}\")\n",
    "if p_value_elnino_lanina < 0.05:\n",
    "    print(\"Distributions of storm counts per year are significantly different between El Niño and La Niña (p < 0.05).\")\n",
    "else:\n",
    "    print(\"Distributions of storm counts per year are not significantly different between El Niño and La Niña (p ≥ 0.05).\")\n",
    "\n",
    "# Perform KS test between El Niño and Neutral storm counts\n",
    "ks_statistic_elnino_neutral, p_value_elnino_neutral = ks_2samp(el_nino_counts, neutral_counts)\n",
    "print(\"\\nEl Niño vs Neutral (Number of Storms per Year):\")\n",
    "print(f\"KS Statistic: {ks_statistic_elnino_neutral}\")\n",
    "print(f\"P-Value: {p_value_elnino_neutral}\")\n",
    "if p_value_elnino_neutral < 0.05:\n",
    "    print(\"Distributions of storm counts per year are significantly different between El Niño and Neutral (p < 0.05).\")\n",
    "else:\n",
    "    print(\"Distributions of storm counts per year are not significantly different between El Niño and Neutral (p ≥ 0.05).\")\n",
    "\n",
    "# Perform KS test between La Niña and Neutral storm counts\n",
    "ks_statistic_lanina_neutral, p_value_lanina_neutral = ks_2samp(la_nina_counts, neutral_counts)\n",
    "print(\"\\nLa Niña vs Neutral (Number of Storms per Year):\")\n",
    "print(f\"KS Statistic: {ks_statistic_lanina_neutral}\")\n",
    "print(f\"P-Value: {p_value_lanina_neutral}\")\n",
    "if p_value_lanina_neutral < 0.05:\n",
    "    print(\"Distributions of storm counts per year are significantly different between La Niña and Neutral (p < 0.05).\")\n",
    "else:\n",
    "    print(\"Distributions of storm counts per year are not significantly different between La Niña and Neutral (p ≥ 0.05).\")\n",
    "\n"
   ]
  },
  {
   "cell_type": "code",
   "execution_count": null,
   "id": "1057d441-2f95-4de0-9ae1-eed07e774a3a",
   "metadata": {},
   "outputs": [],
   "source": []
  }
 ],
 "metadata": {
  "kernelspec": {
   "display_name": "Python [conda env:csm-2024-fall]",
   "language": "python",
   "name": "conda-env-csm-2024-fall-py"
  },
  "language_info": {
   "codemirror_mode": {
    "name": "ipython",
    "version": 3
   },
   "file_extension": ".py",
   "mimetype": "text/x-python",
   "name": "python",
   "nbconvert_exporter": "python",
   "pygments_lexer": "ipython3",
   "version": "3.11.10"
  }
 },
 "nbformat": 4,
 "nbformat_minor": 5
}
