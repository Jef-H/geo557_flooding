{
 "cells": [
  {
   "cell_type": "code",
   "execution_count": 33,
   "id": "2e464669-4c27-4118-9877-6a5912ad7956",
   "metadata": {},
   "outputs": [
    {
     "name": "stdout",
     "output_type": "stream",
     "text": [
      "Number of distinct stations: 169\n"
     ]
    },
    {
     "data": {
      "text/plain": [
       "(169, 14)"
      ]
     },
     "execution_count": 33,
     "metadata": {},
     "output_type": "execute_result"
    }
   ],
   "source": [
    "import pandas as pd\n",
    "\n",
    "# Read the file\n",
    "water_table_df = pd.read_csv(\"TampaBayGW20232024.txt\", sep='\\t')\n",
    "\n",
    "# Display the number of distinct stations\n",
    "distinct_station_count = water_table_df['StationID'].nunique()\n",
    "print(\"Number of distinct stations:\", distinct_station_count)\n",
    "\n",
    "# Define the function to filter for the closest date to the storm for each station\n",
    "def filter_closest_date_per_station(df, storm_date='2023-10-01'):\n",
    "    # Convert SampleDate column to datetime with a specified format to avoid warnings\n",
    "    df['SampleDate'] = pd.to_datetime(df['SampleDate'], format='%m/%d/%Y %I:%M:%S %p')\n",
    "    \n",
    "    # Convert storm_date to datetime format\n",
    "    storm_date = pd.to_datetime(storm_date)\n",
    "    \n",
    "    # Filter the DataFrame for dates before or equal to the storm date\n",
    "    df_before_storm = df[df['SampleDate'] <= storm_date]\n",
    "    \n",
    "    # Sort the filtered DataFrame by StationID and SampleDate in descending order\n",
    "    df_before_storm = df_before_storm.sort_values(['StationID', 'SampleDate'], ascending=[True, False])\n",
    "    \n",
    "    # For each station, keep only the first row (closest date before the storm)\n",
    "    closest_date_df = df_before_storm.groupby('StationID').head(1)\n",
    "    \n",
    "    return closest_date_df\n",
    "\n",
    "# Apply the filter function to get only the closest date data for each station\n",
    "filtered_df = filter_closest_date_per_station(water_table_df, storm_date='2023-10-01')\n",
    "\n",
    "# Display the filtered data\n",
    "#print(filtered_df)\n",
    "\n",
    "# this should have only 169 values one for each station. \n",
    "filtered_df.shape\n",
    "\n",
    "output_file_name = storm_date + \"_water_table\".csv\"\n",
    "\n",
    " pd.to_csv(\"TampaBayGW20232024.txt\", filtered_df)\n"
   ]
  },
  {
   "cell_type": "code",
   "execution_count": null,
   "id": "3d126c4c-a764-4dd3-9b6f-dc52504b5976",
   "metadata": {},
   "outputs": [],
   "source": []
  }
 ],
 "metadata": {
  "kernelspec": {
   "display_name": "Python [conda env:csm-2024-fall]",
   "language": "python",
   "name": "conda-env-csm-2024-fall-py"
  },
  "language_info": {
   "codemirror_mode": {
    "name": "ipython",
    "version": 3
   },
   "file_extension": ".py",
   "mimetype": "text/x-python",
   "name": "python",
   "nbconvert_exporter": "python",
   "pygments_lexer": "ipython3",
   "version": "3.11.10"
  }
 },
 "nbformat": 4,
 "nbformat_minor": 5
}
